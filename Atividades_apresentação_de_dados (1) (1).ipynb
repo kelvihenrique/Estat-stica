{
 "cells": [
  {
   "cell_type": "code",
   "execution_count": 16,
   "metadata": {},
   "outputs": [],
   "source": [
    "import pandas as pd\n",
    "import numpy as np\n",
    "import matplotlib.pyplot as plt\n",
    "import stemgraphic"
   ]
  },
  {
   "cell_type": "markdown",
   "metadata": {},
   "source": [
    "**Atividade 1.1**:"
   ]
  },
  {
   "cell_type": "markdown",
   "metadata": {},
   "source": [
    "- Condição do domicílio - Qualitativa\n",
    "\n",
    "- Condição da rua - Qualitativa"
   ]
  },
  {
   "cell_type": "markdown",
   "metadata": {},
   "source": [
    "**Atividade 1.2**:"
   ]
  },
  {
   "cell_type": "code",
   "execution_count": 2,
   "metadata": {},
   "outputs": [
    {
     "data": {
      "text/html": [
       "<div>\n",
       "<style scoped>\n",
       "    .dataframe tbody tr th:only-of-type {\n",
       "        vertical-align: middle;\n",
       "    }\n",
       "\n",
       "    .dataframe tbody tr th {\n",
       "        vertical-align: top;\n",
       "    }\n",
       "\n",
       "    .dataframe thead th {\n",
       "        text-align: right;\n",
       "    }\n",
       "</style>\n",
       "<table border=\"1\" class=\"dataframe\">\n",
       "  <thead>\n",
       "    <tr style=\"text-align: right;\">\n",
       "      <th></th>\n",
       "      <th>Fi</th>\n",
       "      <th>Fr</th>\n",
       "      <th>Fa</th>\n",
       "    </tr>\n",
       "  </thead>\n",
       "  <tbody>\n",
       "    <tr>\n",
       "      <th>M</th>\n",
       "      <td>14</td>\n",
       "      <td>60.869565</td>\n",
       "      <td>14</td>\n",
       "    </tr>\n",
       "    <tr>\n",
       "      <th>F</th>\n",
       "      <td>9</td>\n",
       "      <td>39.130435</td>\n",
       "      <td>23</td>\n",
       "    </tr>\n",
       "  </tbody>\n",
       "</table>\n",
       "</div>"
      ],
      "text/plain": [
       "   Fi         Fr  Fa\n",
       "M  14  60.869565  14\n",
       "F   9  39.130435  23"
      ]
     },
     "execution_count": 2,
     "metadata": {},
     "output_type": "execute_result"
    }
   ],
   "source": [
    "s = ['M', 'F', 'F', 'M', 'M', 'M', 'F', 'F', 'M', 'M', 'M', 'M', 'M', 'F', 'M', 'M', 'F', 'F', 'M', 'M', 'M', 'F', 'F']\n",
    "d = pd.Series(s)\n",
    "pd.concat([d.value_counts(),d.value_counts(normalize=True)*100, d.value_counts().cumsum()], axis=1,keys=[\"Fi\",\"Fr\",'Fa'])\n",
    "#Fi = absotuta\n",
    "#Fr = relativa\n",
    "#Fa = acumulativa"
   ]
  },
  {
   "cell_type": "markdown",
   "metadata": {},
   "source": [
    "**Atividade 1.3**:"
   ]
  },
  {
   "cell_type": "code",
   "execution_count": 3,
   "metadata": {},
   "outputs": [
    {
     "data": {
      "text/plain": [
       "<matplotlib.axes._subplots.AxesSubplot at 0x21ba65338d0>"
      ]
     },
     "execution_count": 3,
     "metadata": {},
     "output_type": "execute_result"
    },
    {
     "data": {
      "image/png": "[encoded data removed]",
      "text/plain": [
       "<Figure size 432x288 with 1 Axes>"
      ]
     },
     "metadata": {
      "needs_background": "light"
     },
     "output_type": "display_data"
    }
   ],
   "source": [
    "d.value_counts().plot.bar()"
   ]
  },
  {
   "cell_type": "code",
   "execution_count": 4,
   "metadata": {},
   "outputs": [
    {
     "data": {
      "text/plain": [
       "<matplotlib.axes._subplots.AxesSubplot at 0x21ba66c2ef0>"
      ]
     },
     "execution_count": 4,
     "metadata": {},
     "output_type": "execute_result"
    },
    {
     "data": {
      "image/png": "[encoded data removed]",
      "text/plain": [
       "<Figure size 432x288 with 1 Axes>"
      ]
     },
     "metadata": {},
     "output_type": "display_data"
    }
   ],
   "source": [
    "d.value_counts().plot.pie()"
   ]
  },
  {
   "cell_type": "markdown",
   "metadata": {},
   "source": [
    "**Atividade 1.4**"
   ]
  },
  {
   "cell_type": "code",
   "execution_count": 5,
   "metadata": {},
   "outputs": [],
   "source": [
    "n_d = [3,1,0,0,1,3,4,2,2,3,0,2,0,1,0]\n",
    "k = pd.Series(n_d)"
   ]
  },
  {
   "cell_type": "code",
   "execution_count": 6,
   "metadata": {},
   "outputs": [
    {
     "data": {
      "text/html": [
       "<div>\n",
       "<style scoped>\n",
       "    .dataframe tbody tr th:only-of-type {\n",
       "        vertical-align: middle;\n",
       "    }\n",
       "\n",
       "    .dataframe tbody tr th {\n",
       "        vertical-align: top;\n",
       "    }\n",
       "\n",
       "    .dataframe thead th {\n",
       "        text-align: right;\n",
       "    }\n",
       "</style>\n",
       "<table border=\"1\" class=\"dataframe\">\n",
       "  <thead>\n",
       "    <tr style=\"text-align: right;\">\n",
       "      <th></th>\n",
       "      <th>Fi</th>\n",
       "      <th>Fr</th>\n",
       "      <th>Fa</th>\n",
       "    </tr>\n",
       "  </thead>\n",
       "  <tbody>\n",
       "    <tr>\n",
       "      <th>0</th>\n",
       "      <td>5</td>\n",
       "      <td>33.333333</td>\n",
       "      <td>5</td>\n",
       "    </tr>\n",
       "    <tr>\n",
       "      <th>3</th>\n",
       "      <td>3</td>\n",
       "      <td>20.000000</td>\n",
       "      <td>8</td>\n",
       "    </tr>\n",
       "    <tr>\n",
       "      <th>2</th>\n",
       "      <td>3</td>\n",
       "      <td>20.000000</td>\n",
       "      <td>11</td>\n",
       "    </tr>\n",
       "    <tr>\n",
       "      <th>1</th>\n",
       "      <td>3</td>\n",
       "      <td>20.000000</td>\n",
       "      <td>14</td>\n",
       "    </tr>\n",
       "    <tr>\n",
       "      <th>4</th>\n",
       "      <td>1</td>\n",
       "      <td>6.666667</td>\n",
       "      <td>15</td>\n",
       "    </tr>\n",
       "  </tbody>\n",
       "</table>\n",
       "</div>"
      ],
      "text/plain": [
       "   Fi         Fr  Fa\n",
       "0   5  33.333333   5\n",
       "3   3  20.000000   8\n",
       "2   3  20.000000  11\n",
       "1   3  20.000000  14\n",
       "4   1   6.666667  15"
      ]
     },
     "execution_count": 6,
     "metadata": {},
     "output_type": "execute_result"
    }
   ],
   "source": [
    "p = pd.concat([k.value_counts(),k.value_counts(normalize=True)*100, k.value_counts().cumsum()], axis=1,keys=[\"Fi\",\"Fr\",'Fa'])\n",
    "p"
   ]
  },
  {
   "cell_type": "markdown",
   "metadata": {},
   "source": [
    "**Atividade 1.5**"
   ]
  },
  {
   "cell_type": "code",
   "execution_count": 7,
   "metadata": {
    "scrolled": true
   },
   "outputs": [
    {
     "data": {
      "text/plain": [
       "<matplotlib.axes._subplots.AxesSubplot at 0x21ba67210b8>"
      ]
     },
     "execution_count": 7,
     "metadata": {},
     "output_type": "execute_result"
    },
    {
     "data": {
      "image/png": "[encoded data removed]",
      "text/plain": [
       "<Figure size 432x288 with 1 Axes>"
      ]
     },
     "metadata": {
      "needs_background": "light"
     },
     "output_type": "display_data"
    }
   ],
   "source": [
    "p.plot.bar()"
   ]
  },
  {
   "cell_type": "markdown",
   "metadata": {},
   "source": [
    "<b>Atividade 2.1<b/>"
   ]
  },
  {
   "cell_type": "code",
   "execution_count": 8,
   "metadata": {},
   "outputs": [
    {
     "data": {
      "text/html": [
       "<div>\n",
       "<style scoped>\n",
       "    .dataframe tbody tr th:only-of-type {\n",
       "        vertical-align: middle;\n",
       "    }\n",
       "\n",
       "    .dataframe tbody tr th {\n",
       "        vertical-align: top;\n",
       "    }\n",
       "\n",
       "    .dataframe thead th {\n",
       "        text-align: right;\n",
       "    }\n",
       "</style>\n",
       "<table border=\"1\" class=\"dataframe\">\n",
       "  <thead>\n",
       "    <tr style=\"text-align: right;\">\n",
       "      <th></th>\n",
       "      <th>Nome</th>\n",
       "      <th>idade</th>\n",
       "      <th>salário</th>\n",
       "    </tr>\n",
       "  </thead>\n",
       "  <tbody>\n",
       "    <tr>\n",
       "      <th>0</th>\n",
       "      <td>João da Silva</td>\n",
       "      <td>36</td>\n",
       "      <td>6300</td>\n",
       "    </tr>\n",
       "    <tr>\n",
       "      <th>1</th>\n",
       "      <td>Pedro Fernandes</td>\n",
       "      <td>51</td>\n",
       "      <td>5700</td>\n",
       "    </tr>\n",
       "    <tr>\n",
       "      <th>2</th>\n",
       "      <td>Maria Freitas</td>\n",
       "      <td>26</td>\n",
       "      <td>4500</td>\n",
       "    </tr>\n",
       "    <tr>\n",
       "      <th>3</th>\n",
       "      <td>Paula Gonçalves</td>\n",
       "      <td>25</td>\n",
       "      <td>3800</td>\n",
       "    </tr>\n",
       "    <tr>\n",
       "      <th>4</th>\n",
       "      <td>Ana Freitas</td>\n",
       "      <td>29</td>\n",
       "      <td>3200</td>\n",
       "    </tr>\n",
       "    <tr>\n",
       "      <th>5</th>\n",
       "      <td>Luiz Costa</td>\n",
       "      <td>53</td>\n",
       "      <td>7300</td>\n",
       "    </tr>\n",
       "    <tr>\n",
       "      <th>6</th>\n",
       "      <td>André Souza</td>\n",
       "      <td>42</td>\n",
       "      <td>7100</td>\n",
       "    </tr>\n",
       "    <tr>\n",
       "      <th>7</th>\n",
       "      <td>Patrícia Silva</td>\n",
       "      <td>38</td>\n",
       "      <td>5600</td>\n",
       "    </tr>\n",
       "    <tr>\n",
       "      <th>8</th>\n",
       "      <td>Regina Lima</td>\n",
       "      <td>35</td>\n",
       "      <td>6400</td>\n",
       "    </tr>\n",
       "    <tr>\n",
       "      <th>9</th>\n",
       "      <td>Alfredo Souza</td>\n",
       "      <td>45</td>\n",
       "      <td>7000</td>\n",
       "    </tr>\n",
       "    <tr>\n",
       "      <th>10</th>\n",
       "      <td>Margarete Cunha</td>\n",
       "      <td>26</td>\n",
       "      <td>3700</td>\n",
       "    </tr>\n",
       "    <tr>\n",
       "      <th>11</th>\n",
       "      <td>Pedro Barbosa</td>\n",
       "      <td>37</td>\n",
       "      <td>6500</td>\n",
       "    </tr>\n",
       "    <tr>\n",
       "      <th>12</th>\n",
       "      <td>Ricardo Alves</td>\n",
       "      <td>24</td>\n",
       "      <td>4000</td>\n",
       "    </tr>\n",
       "    <tr>\n",
       "      <th>13</th>\n",
       "      <td>Márcio Rezende</td>\n",
       "      <td>31</td>\n",
       "      <td>5100</td>\n",
       "    </tr>\n",
       "    <tr>\n",
       "      <th>14</th>\n",
       "      <td>Ana Carolina Chaves</td>\n",
       "      <td>29</td>\n",
       "      <td>4500</td>\n",
       "    </tr>\n",
       "  </tbody>\n",
       "</table>\n",
       "</div>"
      ],
      "text/plain": [
       "                   Nome  idade  salário\n",
       "0         João da Silva     36     6300\n",
       "1       Pedro Fernandes     51     5700\n",
       "2         Maria Freitas     26     4500\n",
       "3       Paula Gonçalves     25     3800\n",
       "4           Ana Freitas     29     3200\n",
       "5            Luiz Costa     53     7300\n",
       "6           André Souza     42     7100\n",
       "7        Patrícia Silva     38     5600\n",
       "8           Regina Lima     35     6400\n",
       "9         Alfredo Souza     45     7000\n",
       "10      Margarete Cunha     26     3700\n",
       "11        Pedro Barbosa     37     6500\n",
       "12        Ricardo Alves     24     4000\n",
       "13       Márcio Rezende     31     5100\n",
       "14  Ana Carolina Chaves     29     4500"
      ]
     },
     "execution_count": 8,
     "metadata": {},
     "output_type": "execute_result"
    }
   ],
   "source": [
    "dic = {'Nome':['João da Silva', 'Pedro Fernandes', 'Maria Freitas', 'Paula Gonçalves', \n",
    "         'Ana Freitas', 'Luiz Costa', 'André Souza', 'Patrícia Silva', 'Regina Lima', \n",
    "         'Alfredo Souza', 'Margarete Cunha', 'Pedro Barbosa', 'Ricardo Alves', \n",
    "         'Márcio Rezende', 'Ana Carolina Chaves'],\n",
    "         'idade': [36, 51, 26, 25, 29, 53, 42, 38, 35, 45, 26, 37, 24, 31, 29],\n",
    "         'salário':[6300,5700,4500,3800,3200,7300,7100,5600,6400,7000,3700,6500,4000,5100,4500]}\n",
    "df1 = pd.DataFrame(dic)\n",
    "df1"
   ]
  },
  {
   "cell_type": "code",
   "execution_count": 9,
   "metadata": {},
   "outputs": [
    {
     "data": {
      "text/plain": [
       "idade\n",
       "24    1\n",
       "25    1\n",
       "26    2\n",
       "29    2\n",
       "31    1\n",
       "35    1\n",
       "36    1\n",
       "37    1\n",
       "38    1\n",
       "42    1\n",
       "45    1\n",
       "51    1\n",
       "53    1\n",
       "dtype: int64"
      ]
     },
     "execution_count": 9,
     "metadata": {},
     "output_type": "execute_result"
    }
   ],
   "source": [
    "df1.groupby('idade').size()"
   ]
  },
  {
   "cell_type": "code",
   "execution_count": 10,
   "metadata": {},
   "outputs": [],
   "source": [
    "p = pd.cut(np.array([36, 51, 26, 25, 29, 53, 42, 38, 35, 45, 26, 37, 24, 31, 29]), 6, precision = True)\n"
   ]
  },
  {
   "cell_type": "code",
   "execution_count": 11,
   "metadata": {
    "scrolled": true
   },
   "outputs": [
    {
     "data": {
      "text/html": [
       "<div>\n",
       "<style scoped>\n",
       "    .dataframe tbody tr th:only-of-type {\n",
       "        vertical-align: middle;\n",
       "    }\n",
       "\n",
       "    .dataframe tbody tr th {\n",
       "        vertical-align: top;\n",
       "    }\n",
       "\n",
       "    .dataframe thead th {\n",
       "        text-align: right;\n",
       "    }\n",
       "</style>\n",
       "<table border=\"1\" class=\"dataframe\">\n",
       "  <thead>\n",
       "    <tr style=\"text-align: right;\">\n",
       "      <th></th>\n",
       "      <th>Fi</th>\n",
       "      <th>Fr</th>\n",
       "      <th>Fa</th>\n",
       "    </tr>\n",
       "  </thead>\n",
       "  <tbody>\n",
       "    <tr>\n",
       "      <th>(33.7, 38.5]</th>\n",
       "      <td>4</td>\n",
       "      <td>26.666667</td>\n",
       "      <td>4</td>\n",
       "    </tr>\n",
       "    <tr>\n",
       "      <th>(24.0, 28.8]</th>\n",
       "      <td>4</td>\n",
       "      <td>26.666667</td>\n",
       "      <td>8</td>\n",
       "    </tr>\n",
       "    <tr>\n",
       "      <th>(28.8, 33.7]</th>\n",
       "      <td>3</td>\n",
       "      <td>20.000000</td>\n",
       "      <td>11</td>\n",
       "    </tr>\n",
       "    <tr>\n",
       "      <th>(48.2, 53.0]</th>\n",
       "      <td>2</td>\n",
       "      <td>13.333333</td>\n",
       "      <td>13</td>\n",
       "    </tr>\n",
       "    <tr>\n",
       "      <th>(43.3, 48.2]</th>\n",
       "      <td>1</td>\n",
       "      <td>6.666667</td>\n",
       "      <td>14</td>\n",
       "    </tr>\n",
       "    <tr>\n",
       "      <th>(38.5, 43.3]</th>\n",
       "      <td>1</td>\n",
       "      <td>6.666667</td>\n",
       "      <td>15</td>\n",
       "    </tr>\n",
       "  </tbody>\n",
       "</table>\n",
       "</div>"
      ],
      "text/plain": [
       "              Fi         Fr  Fa\n",
       "(33.7, 38.5]   4  26.666667   4\n",
       "(24.0, 28.8]   4  26.666667   8\n",
       "(28.8, 33.7]   3  20.000000  11\n",
       "(48.2, 53.0]   2  13.333333  13\n",
       "(43.3, 48.2]   1   6.666667  14\n",
       "(38.5, 43.3]   1   6.666667  15"
      ]
     },
     "execution_count": 11,
     "metadata": {},
     "output_type": "execute_result"
    }
   ],
   "source": [
    "j = pd.Series(p)\n",
    "o = pd.concat([j.value_counts(),j.value_counts(normalize=True)*100, j.value_counts().cumsum()], axis=1,keys=[\"Fi\",\"Fr\",'Fa'])\n",
    "o\n",
    "o.sort_values(by = 'Fa')"
   ]
  },
  {
   "cell_type": "markdown",
   "metadata": {},
   "source": [
    "<b>Atividade 2.2<b/>"
   ]
  },
  {
   "cell_type": "code",
   "execution_count": 12,
   "metadata": {
    "scrolled": false
   },
   "outputs": [
    {
     "data": {
      "text/plain": [
       "0       (5940.0, 6600.0]\n",
       "1       (4860.0, 5940.0]\n",
       "2       (3960.0, 4860.0]\n",
       "3     (3199.999, 3960.0]\n",
       "4     (3199.999, 3960.0]\n",
       "5       (6600.0, 7300.0]\n",
       "6       (6600.0, 7300.0]\n",
       "7       (4860.0, 5940.0]\n",
       "8       (5940.0, 6600.0]\n",
       "9       (6600.0, 7300.0]\n",
       "10    (3199.999, 3960.0]\n",
       "11      (5940.0, 6600.0]\n",
       "12      (3960.0, 4860.0]\n",
       "13      (4860.0, 5940.0]\n",
       "14      (3960.0, 4860.0]\n",
       "Name: salário, dtype: category\n",
       "Categories (5, interval[float64]): [(3199.999, 3960.0] < (3960.0, 4860.0] < (4860.0, 5940.0] < (5940.0, 6600.0] < (6600.0, 7300.0]]"
      ]
     },
     "execution_count": 12,
     "metadata": {},
     "output_type": "execute_result"
    }
   ],
   "source": [
    "h = pd.qcut(df1['salário'],  q = 5 )\n",
    "h"
   ]
  },
  {
   "cell_type": "code",
   "execution_count": 13,
   "metadata": {},
   "outputs": [
    {
     "data": {
      "text/html": [
       "<div>\n",
       "<style scoped>\n",
       "    .dataframe tbody tr th:only-of-type {\n",
       "        vertical-align: middle;\n",
       "    }\n",
       "\n",
       "    .dataframe tbody tr th {\n",
       "        vertical-align: top;\n",
       "    }\n",
       "\n",
       "    .dataframe thead th {\n",
       "        text-align: right;\n",
       "    }\n",
       "</style>\n",
       "<table border=\"1\" class=\"dataframe\">\n",
       "  <thead>\n",
       "    <tr style=\"text-align: right;\">\n",
       "      <th></th>\n",
       "      <th>Fi</th>\n",
       "      <th>Fr</th>\n",
       "      <th>Fa</th>\n",
       "    </tr>\n",
       "  </thead>\n",
       "  <tbody>\n",
       "    <tr>\n",
       "      <th>(6600.0, 7300.0]</th>\n",
       "      <td>3</td>\n",
       "      <td>20.0</td>\n",
       "      <td>3</td>\n",
       "    </tr>\n",
       "    <tr>\n",
       "      <th>(5940.0, 6600.0]</th>\n",
       "      <td>3</td>\n",
       "      <td>20.0</td>\n",
       "      <td>6</td>\n",
       "    </tr>\n",
       "    <tr>\n",
       "      <th>(4860.0, 5940.0]</th>\n",
       "      <td>3</td>\n",
       "      <td>20.0</td>\n",
       "      <td>9</td>\n",
       "    </tr>\n",
       "    <tr>\n",
       "      <th>(3960.0, 4860.0]</th>\n",
       "      <td>3</td>\n",
       "      <td>20.0</td>\n",
       "      <td>12</td>\n",
       "    </tr>\n",
       "    <tr>\n",
       "      <th>(3199.999, 3960.0]</th>\n",
       "      <td>3</td>\n",
       "      <td>20.0</td>\n",
       "      <td>15</td>\n",
       "    </tr>\n",
       "  </tbody>\n",
       "</table>\n",
       "</div>"
      ],
      "text/plain": [
       "                    Fi    Fr  Fa\n",
       "(6600.0, 7300.0]     3  20.0   3\n",
       "(5940.0, 6600.0]     3  20.0   6\n",
       "(4860.0, 5940.0]     3  20.0   9\n",
       "(3960.0, 4860.0]     3  20.0  12\n",
       "(3199.999, 3960.0]   3  20.0  15"
      ]
     },
     "execution_count": 13,
     "metadata": {},
     "output_type": "execute_result"
    }
   ],
   "source": [
    "o = pd.concat([h.value_counts(), h.value_counts(normalize=True)*100, h.value_counts().cumsum()], axis=1,keys=[\"Fi\",\"Fr\",'Fa'])\n",
    "o"
   ]
  },
  {
   "cell_type": "markdown",
   "metadata": {},
   "source": [
    "<b>Atividade 2.3<b/>"
   ]
  },
  {
   "cell_type": "code",
   "execution_count": null,
   "metadata": {},
   "outputs": [],
   "source": []
  },
  {
   "cell_type": "code",
   "execution_count": null,
   "metadata": {},
   "outputs": [],
   "source": []
  },
  {
   "cell_type": "markdown",
   "metadata": {},
   "source": [
    "<b>Atividade 2.4<b/>\n",
    "    \n",
    "<b> A vizualização não ficou muito boa, mas tentei.<b/>"
   ]
  },
  {
   "cell_type": "code",
   "execution_count": 35,
   "metadata": {},
   "outputs": [
    {
     "data": {
      "image/png": "[encoded data removed]",
      "text/plain": [
       "<Figure size 360x72 with 2 Axes>"
      ]
     },
     "metadata": {
      "needs_background": "light"
     },
     "output_type": "display_data"
    }
   ],
   "source": [
    "IRH = pd.Series([36, 51, 26, 25, 29, 53, 42, 38, 35, 45, 26, 37, 24, 31, 29])\n",
    "IDF =  pd.Series([27, 31, 45, 52, 33, 34, 29, 27, 35, 38, 50, 48, 29, 30, 32, 29, 42, 41, 40,\n",
    "42, 28, 36, 48])\n",
    "\n",
    "\n",
    "fig, ax = stemgraphic.stem_graphic(IRH,IDF)\n"
   ]
  }
 ],
 "metadata": {
  "kernelspec": {
   "display_name": "Python 3",
   "language": "python",
   "name": "python3"
  },
  "language_info": {
   "codemirror_mode": {
    "name": "ipython",
    "version": 3
   },
   "file_extension": ".py",
   "mimetype": "text/x-python",
   "name": "python",
   "nbconvert_exporter": "python",
   "pygments_lexer": "ipython3",
   "version": "3.7.1"
  }
 },
 "nbformat": 4,
 "nbformat_minor": 2
}
